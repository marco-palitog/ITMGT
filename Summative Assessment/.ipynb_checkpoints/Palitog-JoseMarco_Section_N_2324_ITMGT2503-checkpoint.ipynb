{
 "cells": [
  {
   "cell_type": "markdown",
   "id": "a45da6f3",
   "metadata": {},
   "source": [
    "# General Instructions\n",
    "Change the filenames to LastName-FirstName_Section_M-N_2324_ITMGT2503 <br>\n",
    "__Ex. GAW-Adriel_SectionM_2324_ITMGT2503__"
   ]
  },
  {
   "cell_type": "markdown",
   "id": "d6da16c7",
   "metadata": {},
   "source": [
    "# Question 1: Watch Your Words\n",
    "Your task is to count the number of times that each word was used in a movie script! Please be guided by the instructions below!"
   ]
  },
  {
   "cell_type": "markdown",
   "id": "2ac08c4d",
   "metadata": {},
   "source": [
    "#### 1a"
   ]
  },
  {
   "cell_type": "code",
   "execution_count": 2,
   "id": "733f65e0",
   "metadata": {},
   "outputs": [
    {
     "data": {
      "text/plain": [
       "[('A', 59), ('B', 100), ('C', 20), ('D', 88), ('E', 25), ('F', 38)]"
      ]
     },
     "execution_count": 2,
     "metadata": {},
     "output_type": "execute_result"
    }
   ],
   "source": [
    "# First, to help guide you, here is a list containing tuples. Run this block of code to initialize the list\n",
    "list_of_tuples = [('A',59),('B',100),('C',20),('D',88),('E',25),('F',38)]\n",
    "\n",
    "list_of_tuples"
   ]
  },
  {
   "cell_type": "markdown",
   "id": "be1700c1",
   "metadata": {},
   "source": [
    "If we want to __sort this tuple according to the numerical value__, using the sort() without any other arguments will not suffice. But, diving a bit deeper into the sort() function, we can see that it can accept two parameters: \n",
    "\n",
    "- `key` which is what will be used as the basis for sorting\n",
    "- `reverse` which accepts a Boolean value to determine if the sorting will be ascending or descending\n"
   ]
  },
  {
   "cell_type": "code",
   "execution_count": 18,
   "id": "cde85a14",
   "metadata": {},
   "outputs": [
    {
     "name": "stdout",
     "output_type": "stream",
     "text": [
      "[('B', 100), ('D', 88), ('A', 59), ('F', 38), ('E', 25), ('C', 20)]\n"
     ]
    }
   ],
   "source": [
    "# execute this cell to see how the two arguments help us achieve the desired result\n",
    "\n",
    "list_of_tuples.sort(key=lambda x: x[1], reverse=True)\n",
    "\n",
    "print(list_of_tuples)"
   ]
  },
  {
   "cell_type": "markdown",
   "id": "d9503f7e",
   "metadata": {},
   "source": [
    "#### 1b"
   ]
  },
  {
   "cell_type": "code",
   "execution_count": null,
   "id": "57374ae4",
   "metadata": {},
   "outputs": [],
   "source": [
    "# To formally start this problem:\n",
    "# Load the \"script.json\" file and store it in the `jsondata` variable. \n",
    "# The dictionary will contain the \"line number\" (starting from 0) as the key, \n",
    "# and the lines itself as the value\n",
    "\n"
   ]
  },
  {
   "cell_type": "code",
   "execution_count": 1,
   "id": "f19eaf5e",
   "metadata": {},
   "outputs": [],
   "source": [
    "import json\n",
    "\n",
    "with open(\"script.json\",\"r\") as file:\n",
    "    jsondata = json.load(file)\n",
    "#print(jsondata)\n",
    "#print(len(jsondata))"
   ]
  },
  {
   "cell_type": "markdown",
   "id": "7ff1d466",
   "metadata": {},
   "source": [
    "#### 1c"
   ]
  },
  {
   "cell_type": "code",
   "execution_count": 3,
   "id": "bfd0f682",
   "metadata": {},
   "outputs": [
    {
     "ename": "KeyboardInterrupt",
     "evalue": "",
     "output_type": "error",
     "traceback": [
      "\u001b[1;31m---------------------------------------------------------------------------\u001b[0m",
      "\u001b[1;31mKeyboardInterrupt\u001b[0m                         Traceback (most recent call last)",
      "Cell \u001b[1;32mIn[3], line 13\u001b[0m\n\u001b[0;32m     11\u001b[0m \u001b[38;5;28;01mwhile\u001b[39;00m \u001b[38;5;124m\"\u001b[39m\u001b[38;5;124m<\u001b[39m\u001b[38;5;124m\"\u001b[39m \u001b[38;5;129;01min\u001b[39;00m upper_jsondata:\n\u001b[0;32m     12\u001b[0m     upper_jsondata\u001b[38;5;241m.\u001b[39mreplace(\u001b[38;5;124m\"\u001b[39m\u001b[38;5;124m<\u001b[39m\u001b[38;5;124m\"\u001b[39m, \u001b[38;5;124m\"\u001b[39m\u001b[38;5;124m \u001b[39m\u001b[38;5;124m\"\u001b[39m)\n\u001b[1;32m---> 13\u001b[0m     upper_jsondata\u001b[38;5;241m.\u001b[39mreplace(\u001b[38;5;124m\"\u001b[39m\u001b[38;5;124m>\u001b[39m\u001b[38;5;124m\"\u001b[39m, \u001b[38;5;124m\"\u001b[39m\u001b[38;5;124m \u001b[39m\u001b[38;5;124m\"\u001b[39m)\n\u001b[0;32m     15\u001b[0m \u001b[38;5;28;01mfor\u001b[39;00m symbol \u001b[38;5;129;01min\u001b[39;00m unnecessary_punctuation:\n\u001b[0;32m     16\u001b[0m     \u001b[38;5;28;01mwhile\u001b[39;00m symbol \u001b[38;5;129;01min\u001b[39;00m upper_jsondata:\n",
      "\u001b[1;31mKeyboardInterrupt\u001b[0m: "
     ]
    }
   ],
   "source": [
    "# To process the lines in the script, you need to do the following in chronological order:\n",
    "#### Convert all characters to uppercase characters\n",
    "#### Remove the following pieces of text: <P>, </P>, <B>, </B>, <I>, </I>\n",
    "#### Remove all the unnecessary punctuation symbols denoted in the string below\n",
    "unnecessary_punctuation = r\"&$@[].,'#()-\\\"!?’_;:/\"\n",
    "\n",
    "str_jsondata = str(jsondata)\n",
    "\n",
    "upper_jsondata = str_jsondata.upper()\n",
    "\n",
    "while \"<\" in upper_jsondata:\n",
    "    upper_jsondata.replace(\"<\", \" \")\n",
    "    upper_jsondata.replace(\"<>\", \" \")\n",
    "\n",
    "for symbol in unnecessary_punctuation:\n",
    "    while symbol in upper_jsondata:\n",
    "        upper_jsondata.replace(symbol, \" \")\n",
    "\n",
    "json_list = upper_jsondata.split(\" \")"
   ]
  },
  {
   "cell_type": "markdown",
   "id": "eb694aa4",
   "metadata": {},
   "source": [
    "#### 1d"
   ]
  },
  {
   "cell_type": "code",
   "execution_count": null,
   "id": "0fb22eb9",
   "metadata": {},
   "outputs": [],
   "source": [
    "# From here, create a dictionary called `wordcount_dictionary` that will have the key:value pair of word:count\n",
    "# But, only include words that are three (3) letters or more\n",
    "wordcount_dictionary = {}\n",
    "for word in json_list:\n",
    "    if len(word) >= 3:\n",
    "        wordcount_dictionary[word] = json_list.count(word)\n"
   ]
  },
  {
   "cell_type": "code",
   "execution_count": null,
   "id": "b6cab676",
   "metadata": {},
   "outputs": [],
   "source": [
    "# If there were no errors in the way you processed your data, \n",
    "# this should output \"Looks Good!\"  \n",
    "\n",
    "import numpy as np\n",
    "import pandas as pd \n",
    "\n",
    "df1 = pd.read_json(\"output_dictionary_Q1.json\",typ=\"dictionary\").sort_values()\n",
    "df2 = pd.Series(wordcount_dictionary).sort_values()\n",
    "\n",
    "assert df1.equals(df2), \"The dictionaries are not equal. Please check your code again.\"\n",
    "\n",
    "print(\"Looks Good!\")"
   ]
  },
  {
   "cell_type": "markdown",
   "id": "3d81395c",
   "metadata": {},
   "source": [
    "#### 1e"
   ]
  },
  {
   "cell_type": "code",
   "execution_count": null,
   "id": "9891020e",
   "metadata": {},
   "outputs": [],
   "source": [
    "# Afterwards, we want to convert that dictionary to a list containing tuples\n",
    "# Create a list called \"final_wordlist_of_tuples\" containing tuples \n",
    "# Each tuple should be as follows: (word,count)\n",
    "# Sort the list by `count` (the second element of the tuple) in descending order\n",
    "# A correct sample is shown in the markdown cell below\n",
    "# Hint: this can be done using lambda but you can use a regular function definition. \n",
    "# Make sure you go through the mini-tutorial at the start of this problem.\n",
    "\n",
    "final_wordlist_of_tuples = []\n",
    "for entry in list(wordcount_dictionary.keys()):\n",
    "    final_wordlist_of_tuples.append((entry, wordcount_dictionary[entry]))\n",
    "\n",
    "final_wordlist_of_tuples.sort(key=lambda x: x[1], reverse=True)\n",
    "\n",
    "print(final_wordlist_of_tuples)"
   ]
  },
  {
   "cell_type": "markdown",
   "id": "7d38d8e3",
   "metadata": {},
   "source": [
    "___<div align=\"center\">Once sorted, this should be the output of the first five items.</div>___\n",
    "\n",
    "|         |             |\n",
    "|:--------|------------:|\n",
    "| THE     |         830 |\n",
    "| JOY     |         585 |\n",
    "| AND     |         351 |\n",
    "| RILEY   |         326 |\n",
    "| SADNESS |         274 |"
   ]
  },
  {
   "cell_type": "markdown",
   "id": "358fdc4f",
   "metadata": {},
   "source": [
    "# Question 2: Wait... What is LP Doing Here?\n",
    "I swear you don't need to do LP here. In fact, the LP formulation is already shown below! "
   ]
  },
  {
   "cell_type": "markdown",
   "id": "4df54d5e",
   "metadata": {},
   "source": [
    "#### LP Problem\n",
    "In the realm of Sanctoria, nestled deep within the misty forests and craggy mountains, lies the legendary dungeon of The Lost King. It is said to be filled with untold riches, ancient relics, and formidable monsters guarding its treasures. As the wise and benevolent ruler of Sanctoria, King Hexter has decided to assemble a daring raiding party to plunder the depths of the dungeon and reclaim its treasures for the kingdom.\n",
    "\n",
    "As the illustrious ruler of Sanctoria, King Hexter is faced with the daunting task of assembling a formidable dungeon raiding party. The success of the raid hinges upon the careful selection and allocation of resources to hire Fighters, Rangers, and Clerics for the expedition into the depths of the Lost King’s home.\n",
    "\n",
    "In the planning of this dungeon raid, the King’s advisors have provided him with the following: Gold: The kingdom's treasury can afford to spend no more than 18000 gold coins on hiring adventurers. Each Fighter costs 1000 gold coins, each Ranger costs 600 gold coins, and each Cleric costs 750 gold coins. Lumber: The construction of necessary equipment for each troop requires ample quality lumber. The kingdom has 12000 units of lumber available for the raid. Each Fighter requires 500 units, each Ranger requires 750 units, and each Cleric requires 300 units. Food: The raid will last several weeks so food must be kept and stored during the raid. The raid will be able to carry 1500 units of food available for the raid. Each Fighter requires 50 units, each Ranger requires 45 units, and each Cleric requires 75 units. Power: The power of the raiding party will dictate the level of the raid’s success. Each Fighter gives 10 points, each Ranger gives 12 points, each Cleric gives 16 points.\n",
    "\n",
    "The King’s military advisors have also discussed strategies that will be employed in the raid: Having more Fighters than Rangers will bolster the raiding party's frontline defense To avoid casualties, each Cleric must have at most 3 Fighters that they are supporting"
   ]
  },
  {
   "cell_type": "markdown",
   "id": "e7083e5f",
   "metadata": {},
   "source": [
    "# LP Formulation\n",
    "\n",
    "**Decision Variables:**\n",
    "- (F): Number of Fighters\n",
    "- (R): Number of Rangers\n",
    "- (C): Number of Clerics\n",
    "\n",
    "**Objective:** Maximize the power of the raiding party.\n",
    "\n",
    "$$ \\text{Maximize Z:  } 10F + 12R + 16C $$\n",
    "\n",
    "\n",
    "**Subject to:**\n",
    "\n",
    "\\begin{aligned}\n",
    "1000F + 600R + 750C &\\leq 18000 && \\text{(Gold constraint)} \\\\\n",
    "500F + 750R + 300C &\\leq 12000 && \\text{(Lumber constraint)} \\\\\n",
    "50F + 45R + 75C &\\leq 1500 && \\text{(Food constraint)} \\\\\n",
    "F, R, C &\\geq 0 && \\text{(Non-negativity constraints)}\n",
    "\\end{aligned}\n"
   ]
  },
  {
   "cell_type": "code",
   "execution_count": 70,
   "id": "3edb6f22",
   "metadata": {
    "scrolled": true
   },
   "outputs": [],
   "source": [
    "# With the LP Formulation as a basis, find the optimal solution to the problem using Python\n",
    "# Use the variable `optimal_Z` to store the value of the Maximum Z\n",
    "# Use the variables `optimal_F`, `optimal_R`, and `optimal_C` to store \n",
    "# the optimal solution of Fighters, Rangers, and Clerics respectively\n",
    "# Note: There may be multiple configurations of F, R, C to attain the Maximum Z. \n",
    "# Hint: Don't use your DecSci brain, use your Python programming brain\n",
    "\n",
    "#initial resources\n",
    "gold = 18000\n",
    "lumber = 12000\n",
    "food = 1500\n",
    "\n",
    "requirements = {\n",
    "    \"fighter\" : {\"gold\" : 1000 , \"lumber\" : 500 , \"food\" : 50},\n",
    "    \"ranger\" : {\"gold\" : 600 , \"lumber\" : 750 , \"food\" : 45},\n",
    "    \"cleric\" : {\"gold\" : 750 , \"lumber\" : 300 , \"food\" : 75}\n",
    "}\n",
    "\n",
    "#max count for all\n",
    "max_F = min(gold//requirements[\"fighter\"][\"gold\"],lumber//requirements[\"fighter\"][\"lumber\"],food//requirements[\"fighter\"][\"food\"])\n",
    "max_R = min(gold//requirements[\"ranger\"][\"gold\"],lumber//requirements[\"ranger\"][\"lumber\"],food//requirements[\"ranger\"][\"food\"])\n",
    "max_C = min(gold//requirements[\"cleric\"][\"gold\"],lumber//requirements[\"cleric\"][\"lumber\"],food//requirements[\"cleric\"][\"food\"])\n",
    "\n",
    "\n",
    "#create all possible configurations\n",
    "configuration_dict = {}\n",
    "for fighter_count in range(max_F):\n",
    "    for ranger_count in range(max_R):\n",
    "        for cleric_count in range(max_C):\n",
    "            if ((fighter_count*requirements[\"fighter\"][\"gold\"]))+((ranger_count*requirements[\"ranger\"][\"gold\"]))+((cleric_count*requirements[\"cleric\"][\"gold\"])) <= gold:\n",
    "                if ((fighter_count*requirements[\"fighter\"][\"lumber\"]))+((ranger_count*requirements[\"ranger\"][\"lumber\"]))+((cleric_count*requirements[\"cleric\"][\"lumber\"])) <= lumber:\n",
    "                    if ((fighter_count*requirements[\"fighter\"][\"food\"]))+((ranger_count*requirements[\"ranger\"][\"food\"]))+((cleric_count*requirements[\"cleric\"][\"food\"])) <= food:\n",
    "                        Z_value = (10 * fighter_count) + (12 * ranger_count) + (16 * cleric_count)\n",
    "                        configuration_dict[Z_value] = (fighter_count, ranger_count, cleric_count)\n",
    "#optimal values\n",
    "Z_compiled = list(configuration_dict.keys())\n",
    "optimal_Z = max(Z_compiled)\n",
    "optimal_F = configuration_dict[optimal_Z][0]\n",
    "optimal_R = configuration_dict[optimal_Z][1]\n",
    "optimal_C = configuration_dict[optimal_Z][2]"
   ]
  },
  {
   "cell_type": "code",
   "execution_count": 72,
   "id": "739011e8",
   "metadata": {},
   "outputs": [
    {
     "name": "stdout",
     "output_type": "stream",
     "text": [
      "Looks Good!\n"
     ]
    }
   ],
   "source": [
    "# If there were no errors in the way you processed your data, \n",
    "# this should output \"Looks Good!\"  \n",
    "\n",
    "assert optimal_Z == 344\n",
    "assert (1000*optimal_F + 600*optimal_R + 750*optimal_C) <= 18000\n",
    "assert (500*optimal_F + 750*optimal_R + 300*optimal_C) <= 12000\n",
    "assert (50*optimal_F + 45*optimal_R + 75*optimal_C) <= 1500\n",
    "print(\"Looks Good!\")"
   ]
  },
  {
   "cell_type": "markdown",
   "id": "e4d68adb",
   "metadata": {},
   "source": [
    "# Question 3: Collatz"
   ]
  },
  {
   "cell_type": "markdown",
   "id": "77584d2c",
   "metadata": {},
   "source": [
    "#### 3a"
   ]
  },
  {
   "cell_type": "markdown",
   "id": "49defdc9",
   "metadata": {},
   "source": [
    "The __Collatz Conjecture__ is a mathematical sequence defined as follows:\n",
    "\n",
    "1. Start with any positive integer n.\n",
    "2. If n is even, divide it by 2 to get n / 2.\n",
    "3. If n is odd, multiply it by 3 and add 1 to get 3n + 1.\n",
    "4. Repeat the process with the resulting number.\n",
    "5. The conjecture states that no matter which positive integer you start with, you will always eventually reach 1."
   ]
  },
  {
   "cell_type": "markdown",
   "id": "7067fcd8",
   "metadata": {},
   "source": [
    "As an example, the number 5 will follow this sequence:\n",
    "- Start at __`5`__\n",
    "- 5 is odd, so we multiply by 3 and adds 1 to get __`16`__\n",
    "- 16 is even, so we divide by 2 to get __`8`__\n",
    "- 8 is even, so we divide by 2 to get __`4`__\n",
    "- 4 is even, so we divide by 2 to get __`2`__\n",
    "- 2 is even, so we divide by 2 to get __`1`__\n",
    "- Since the number is 1, we stop the sequence. \n",
    "\n",
    "For the purposes of this problem, let's call the list containing the numbers __[5, 16, 8, 4, 2, 1]__ the __`Collatz Sequence`__. \n",
    "\n",
    "This sequence also has a __`Collatz Length`__ of 6, since the sequence cycled through 6 numbers.\n",
    "\n",
    "The sequence also had a __`Max Collatz`__ of 16, since that was the highest number in the sequence. \n",
    "\n",
    "Lastly, the sequence had a __`Sequence Sum`__ of 36, since that is the sum of all the numbers in the sequence."
   ]
  },
  {
   "cell_type": "code",
   "execution_count": 66,
   "id": "3af64fdd",
   "metadata": {},
   "outputs": [
    {
     "data": {
      "text/plain": [
       "52"
      ]
     },
     "execution_count": 66,
     "metadata": {},
     "output_type": "execute_result"
    }
   ],
   "source": [
    "def Collatz(start_number):\n",
    "    '''\n",
    "    Create a SINGLE FUNCTION that will return the\n",
    "    `Collatz Sequence`, the `Collatz Length`,\n",
    "    and the `Max Collatz` in a dictionary.\n",
    "\n",
    "    The key-value pairs will be the following:\n",
    "    \"collatz_sequence\": the list containing the numbers of the sequence\n",
    "    \"collatz_length\": the length of the sequence\n",
    "    \"max_collatz\": the maximum number achieved in the sequence\n",
    "    \"sequence_sum\": the sum of all the numbers in the sequence \n",
    "\n",
    "    Parameters\n",
    "    ----------\n",
    "    start_number: int\n",
    "        the number used to start the sequence\n",
    "\n",
    "    Returns\n",
    "    -------\n",
    "    dictionary\n",
    "        the dictionary containing the key-value pairs of the\n",
    "        collatz_sequence, collatz_length, max_collatz, and sequence_sum\n",
    "    '''\n",
    "    collatz_sequence = [start_number]\n",
    "    collatz_current = start_number\n",
    "    while collatz_current != 1:\n",
    "        if collatz_current % 2 == 0 :\n",
    "            collatz_current = int(collatz_current / 2)\n",
    "        else:\n",
    "            collatz_current = int((collatz_current * 3) + 1)\n",
    "        collatz_sequence.append(collatz_current)\n",
    "    collatz_dict = {\n",
    "        \"collatz_sequence\" : collatz_sequence ,\n",
    "        \"collatz_length\": len(collatz_sequence) ,\n",
    "        \"max_collatz\": max(collatz_sequence) , \n",
    "        \"sequence_sum\": sum(collatz_sequence)\n",
    "    }\n",
    "    return(collatz_dict)\n",
    "\n",
    "Collatz(9)[\"max_collatz\"]"
   ]
  },
  {
   "cell_type": "markdown",
   "id": "d77c02b7",
   "metadata": {},
   "source": [
    "#### 3b"
   ]
  },
  {
   "cell_type": "code",
   "execution_count": 68,
   "id": "ec7ad5ed",
   "metadata": {},
   "outputs": [],
   "source": [
    "def Collatz_winner(number_list):\n",
    "    '''\n",
    "    Given a list of positive integers, return the `winner`\n",
    "    among them. The `winner` is categorized as such:\n",
    "        \n",
    "        1. The number has the largest `collatz_length`; and\n",
    "        2. The number has the largest `max_collatz`\n",
    "\n",
    "    If there is no winner, then the function must return None\n",
    "\n",
    "    Parameters\n",
    "    ----------\n",
    "    number_list: list\n",
    "        a list of positive integers\n",
    "\n",
    "    Returns\n",
    "    -------\n",
    "    integer (or NoneType)\n",
    "        the \"winner\" that follows the specific criteria above\n",
    "        returns a None if it does not meet all the criteria above\n",
    "    '''\n",
    "    collatz_length_dict = {}\n",
    "    max_collatz_dict = {}\n",
    "    \n",
    "    for number in number_list:\n",
    "        collatz_length_dict[number] = int(Collatz(number)[\"collatz_length\"])\n",
    "        max_collatz_dict[number] = int(Collatz(number)[\"max_collatz\"])\n",
    "\n",
    "    winner_length = max(collatz_length_dict, key = collatz_length_dict.get)\n",
    "    #print(winner_length)\n",
    "    winner_max = max(max_collatz_dict, key = max_collatz_dict.get)\n",
    "    #print(winner_max)\n",
    "\n",
    "    if winner_length == winner_max:\n",
    "        return(winner_max)\n",
    "    else:\n",
    "        return(None)\n",
    "\n"
   ]
  },
  {
   "cell_type": "code",
   "execution_count": 70,
   "id": "77f8e082",
   "metadata": {},
   "outputs": [
    {
     "ename": "AssertionError",
     "evalue": "",
     "output_type": "error",
     "traceback": [
      "\u001b[1;31m---------------------------------------------------------------------------\u001b[0m",
      "\u001b[1;31mAssertionError\u001b[0m                            Traceback (most recent call last)",
      "Cell \u001b[1;32mIn[70], line 2\u001b[0m\n\u001b[0;32m      1\u001b[0m \u001b[38;5;28;01massert\u001b[39;00m Collatz_winner(\u001b[38;5;28mrange\u001b[39m(\u001b[38;5;241m1\u001b[39m,\u001b[38;5;241m51\u001b[39m)) \u001b[38;5;241m==\u001b[39m \u001b[38;5;241m27\u001b[39m\n\u001b[1;32m----> 2\u001b[0m \u001b[38;5;28;01massert\u001b[39;00m Collatz_winner(\u001b[38;5;28mrange\u001b[39m(\u001b[38;5;241m1\u001b[39m,\u001b[38;5;241m10\u001b[39m)) \u001b[38;5;241m==\u001b[39m \u001b[38;5;241m9\u001b[39m\n\u001b[0;32m      3\u001b[0m \u001b[38;5;28;01massert\u001b[39;00m Collatz_winner(\u001b[38;5;28mrange\u001b[39m(\u001b[38;5;241m50\u001b[39m,\u001b[38;5;241m100\u001b[39m)) \u001b[38;5;241m==\u001b[39m \u001b[38;5;241m97\u001b[39m\n\u001b[0;32m      4\u001b[0m \u001b[38;5;28;01massert\u001b[39;00m Collatz_winner(\u001b[38;5;28mrange\u001b[39m(\u001b[38;5;241m50\u001b[39m,\u001b[38;5;241m100\u001b[39m,\u001b[38;5;241m4\u001b[39m)) \u001b[38;5;241m==\u001b[39m \u001b[38;5;241m54\u001b[39m\n",
      "\u001b[1;31mAssertionError\u001b[0m: "
     ]
    }
   ],
   "source": [
    "assert Collatz_winner(range(1,51)) == 27\n",
    "assert Collatz_winner(range(1,10)) == 9\n",
    "assert Collatz_winner(range(50,100)) == 97\n",
    "assert Collatz_winner(range(50,100,4)) == 54\n",
    "assert Collatz_winner(range(20,131,5)) == 110\n",
    "assert Collatz_winner(range(75,180,9)) == 129"
   ]
  },
  {
   "cell_type": "code",
   "execution_count": null,
   "id": "aa2f8563-345a-4f82-9918-fbdeba187bd4",
   "metadata": {},
   "outputs": [],
   "source": []
  }
 ],
 "metadata": {
  "kernelspec": {
   "display_name": "Python 3 (ipykernel)",
   "language": "python",
   "name": "python3"
  },
  "language_info": {
   "codemirror_mode": {
    "name": "ipython",
    "version": 3
   },
   "file_extension": ".py",
   "mimetype": "text/x-python",
   "name": "python",
   "nbconvert_exporter": "python",
   "pygments_lexer": "ipython3",
   "version": "3.11.7"
  }
 },
 "nbformat": 4,
 "nbformat_minor": 5
}
